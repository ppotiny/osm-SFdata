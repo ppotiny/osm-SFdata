{
 "cells": [
  {
   "cell_type": "markdown",
   "metadata": {},
   "source": [
    "<h1>Open Street Map SF Study</h1>"
   ]
  },
  {
   "cell_type": "markdown",
   "metadata": {},
   "source": [
    "<h2> Map </h2>\n",
    "<p> Links to the map area I am discussing as well as a description of that area are in the text file 'osm-sfmap.txt'.\n",
    "The map covers the region around the bay as well as the city of San Francisco, CA. Therefore, we will see cities in the data as far as Palo Alto and Berkeley.</p> "
   ]
  },
  {
   "cell_type": "markdown",
   "metadata": {},
   "source": [
    "<h2> Code Functionality</h2>\n",
    "<p>I have three functions in audit.py that I use to audit the open street map data. In this project I only focus on the key-value pairs for the nodes tags. Each function deals with one value at a time. I dealt with the keys that I thought were the most problematic which were:</p>\n",
    "<br>\n",
    "<li>Phone Numbers</li>\n",
    "<li>Street Address</li>\n",
    "<li>Source</li>\n",
    "\n",
    "<p> I also have other functions I use to query the database for statistics </p>\n",
    "<p>All database querying was done using sqlite3</p>"
   ]
  },
  {
   "cell_type": "code",
   "execution_count": 7,
   "metadata": {
    "collapsed": true
   },
   "outputs": [],
   "source": [
    "import sqlite3\n",
    "db = sqlite3.connect(\"SanFranciscoOSM.db\")\n",
    "cur = db.cursor()"
   ]
  },
  {
   "cell_type": "markdown",
   "metadata": {},
   "source": [
    "<h2>Problematic Areas</h2>\n",
    "<h3><u>Phone Numbers</u></h3>\n",
    "<br>\n",
    "I came across a variety of formats for phone numbers. The first thing I wanted to do was put them all in the same format. Some phone numbers had letters so I included all alpha-numeric characters and placed them in the form of '+1-###-###-####'. I noticed that some numbers were missing digits or contained something other than a phone number (like a website). These were returned as None.\n",
    "\n",
    "Some formats that I saw were:\n",
    "<li>123-456-7890 (missing the country code)</li>\n",
    "<li>1234567890 (missing dashes)</li>\n",
    "<li>123-456-789 (missing digits)</li>\n",
    "\n",
    "Except for the last number, all of the above numbers would be formatted as '+1-123-456-7890'. The last number would return None."
   ]
  },
  {
   "cell_type": "code",
   "execution_count": 1,
   "metadata": {
    "collapsed": true
   },
   "outputs": [],
   "source": [
    "def audit_phones(phone):\n",
    "    \"\"\" Returns all phones that are able to be formatted in a similar way\"\"\"\n",
    "    \n",
    "    alphanumeric = re.compile('[a-zA-Z0-9]*')\n",
    "    good_phone_format = re.compile('\\+1\\-[0-9A-Za-z]{3}\\-[0-9A-Za-z]{3}\\-[0-9A-Za-z]{4}')\n",
    "\n",
    "    phone = re.findall(alphanumeric, phone)  # Gets alphanumeric characters in string\n",
    "    phone = ''.join(phone)\n",
    "    \n",
    "    \n",
    "    if phone[0] != '1': # +1 is in U.S. numbers, add this number if it's not already present\n",
    "        phone = '1'+phone\n",
    "        \n",
    "    if len(phone) == 11:  # Some phone numbers are missing digits, so check if there are 11\n",
    "        phone = '+'+phone[0]+'-'+phone[1:4]+'-'+phone[4:7]+'-'+phone[7:]\n",
    "        \n",
    "    if not re.match(good_phone_format, phone):  # If the phone does not match the proper format, return None\n",
    "        return None\n",
    "    else:\n",
    "        return phone"
   ]
  },
  {
   "cell_type": "markdown",
   "metadata": {},
   "source": [
    "<h3><u>Street Addresses</u></h3>\n",
    "<br>\n",
    "When auditing street addresses, I decided to focus on abbreviations, variations in capitilization, and punctuation. I did not translate cardinal directions, because there were streets that actually contained the single letter 'E' but did not translate to East. I knew this because there were other streets that started with single letters (e.g. - 'D Street').\n",
    "\n",
    "Here are some examples of how they will be converted:\n",
    "<li>E Street -- (E Street)</li>\n",
    "<li>Upton St. -- ('Upton Street')</li>\n",
    "<li>foothill blvd -- ('Foothill Boulevard')</li>\n",
    "<li>Woodside Road, Suite 100 -- ('Woodside Road')</li>\n",
    "<li>A st. & N blvd -- (('A Street', 'N Boulevard'))</li>\n",
    "\n",
    "I removed numbers in the beginning and ending of street names, as well as the word 'suite' or 'ste'. I realized that most people did not put in their exact addresses. I reasoned that having generalized street names would make them easier to analyze as groups.\n",
    "Also, if there were two addresses present, I would return them as a tuple."
   ]
  },
  {
   "cell_type": "code",
   "execution_count": 2,
   "metadata": {
    "collapsed": true
   },
   "outputs": [],
   "source": [
    "good_street_names = {'rd': 'Road',\n",
    "                     'plz': 'Plaza',\n",
    "                     'blvd': 'Boulevard',\n",
    "                     'ave': 'Avenue',\n",
    "                     'st': 'Street',\n",
    "                     'hwy': 'Highway',\n",
    "                     'ctr': 'Center',\n",
    "                     'dr': 'Drive'}"
   ]
  },
  {
   "cell_type": "code",
   "execution_count": 3,
   "metadata": {
    "collapsed": true
   },
   "outputs": [],
   "source": [
    "def audit_street(street):\n",
    "    \"\"\"Makes sure that the streets only contain the street name in its full,\n",
    "     un-abbreviated form\"\"\"\n",
    "    \n",
    "    numbers_only = re.compile('^[0-9]*$')  # this will match to strings that only have numbers\n",
    "    street = street.replace('.', '').replace('#', '').replace(',', '')  # remove common punctuation\n",
    "\n",
    "    st_words = street.split(' ')\n",
    "    first, last = st_words[0], st_words[-1]\n",
    "\n",
    "    for j, word in enumerate(st_words):\n",
    "        # Capitalize the first letter in each word\n",
    "        st_words[j] = word.strip().title()\n",
    "\n",
    "        # return a tuple of the street names if given two streets\n",
    "        if word.lower() == 'and' or word.lower() == '&':\n",
    "            double = street.split(word)\n",
    "            return audit_street(double[0]), audit_street(double[1])\n",
    "\n",
    "        # remove all numbers at the beginning and ending of string\n",
    "        if word == first or word == last:\n",
    "            if re.match(numbers_only, word):\n",
    "                st_words[j] = ''\n",
    "\n",
    "        # Remove suite from the street names.\n",
    "        if word == 'Suite' or word == 'Ste':\n",
    "            st_words[j] = ''\n",
    "\n",
    "        # Replace street abbreviations with full name\n",
    "        if word.lower().strip() in good_street_names.keys():\n",
    "            st_words[j] = good_street_names[word.lower()]\n",
    "            \n",
    "    if '' in st_words:\n",
    "        st_words.remove('')\n",
    "        \n",
    "    return ' '.join(st_words).strip()"
   ]
  },
  {
   "cell_type": "markdown",
   "metadata": {},
   "source": [
    "<h3><u>Source</u></h3>\n",
    "<br>\n",
    "The sources for each node refer to the source of information for a specific node. Many of the sources were very specific. In order to be able to group each source into a category, I glanced through the unique sources and came up with a list of the most common sources by their most simplistic names. I also did the same with websites, by making it less specific.\n",
    "\n",
    "All sources that were not converted stay exactly as they are.\n",
    "\n",
    "Here are some examples of how they will be converted:\n",
    "<li>Field Observation -- ('observation')</li>\n",
    "<li>Google; Yahoo -- (('google', 'yahoo')) </li>\n",
    "<li>NPS map -- ('map')</li>\n",
    "<li>http://www.dot.ca.gov/ ... /101.pdf -- ('http://www.dot/ca/gov/')</li>\n",
    "<li>Street View -- ('Street View')</li> \n",
    "\n",
    "<i>Note</i>: The '...' in the 4th bullet was used for convenience and is not actually what is written\n"
   ]
  },
  {
   "cell_type": "code",
   "execution_count": 4,
   "metadata": {
    "collapsed": true
   },
   "outputs": [],
   "source": [
    "common_sources = ['bing', 'yahoo', 'google', 'survey', 'map', 'observation',\n",
    "                  'knowledge', 'gps', 'yelp', 'website', 'gtfs', 'usgs']\n",
    "\n",
    "common_webs = ['dot.ca.gov', 'yelp.com/biz']"
   ]
  },
  {
   "cell_type": "code",
   "execution_count": 5,
   "metadata": {
    "collapsed": true
   },
   "outputs": [],
   "source": [
    "def audit_sources(source):\n",
    "    \"\"\"This cleans the sources of information, by attempting to reduce variation\"\"\"\n",
    "    \n",
    "    if (';' in source) or (type(source) == tuple):\n",
    "        # If there is more than one source, it's usually separated by a ';'. Return both\n",
    "        try:\n",
    "            double = source.split(';')\n",
    "        except:\n",
    "            double = source\n",
    "        return audit_sources(double[0]), audit_sources(double[1])\n",
    "    \n",
    "    # If it's not a website, clean the string\n",
    "    if 'http' not in source:\n",
    "        source = source.replace('_', '')\n",
    "        # If there is a common source in the string, replace it with the common source\n",
    "        for cs in common_sources:\n",
    "            if cs in source.lower():\n",
    "                source = source.replace(source, cs)\n",
    "    else:\n",
    "        # If this a common website, make it less specific so you can group them together\n",
    "        for cs in common_webs:\n",
    "            if cs in source:\n",
    "                source = source.rsplit('/', 1)[0]\n",
    "    return source.lower().strip()"
   ]
  },
  {
   "cell_type": "markdown",
   "metadata": {},
   "source": [
    "<h2>Statistics</h2>\n",
    "\n",
    "<h3><u>File Size</u></h3>\n",
    "\n",
    "<i>San Francisco OSM -- 400.722 MB</i>"
   ]
  },
  {
   "cell_type": "markdown",
   "metadata": {},
   "source": [
    "<h3><u>Number of Nodes</u></h3>"
   ]
  },
  {
   "cell_type": "code",
   "execution_count": 9,
   "metadata": {
    "collapsed": false
   },
   "outputs": [
    {
     "name": "stdout",
     "output_type": "stream",
     "text": [
      "4533476\n"
     ]
    }
   ],
   "source": [
    "cur.execute(\"SELECT COUNT(*) FROM nodes\")\n",
    "for c in cur: print c[0]"
   ]
  },
  {
   "cell_type": "markdown",
   "metadata": {},
   "source": [
    "<h3><u>Number of Ways</u></h3>"
   ]
  },
  {
   "cell_type": "code",
   "execution_count": 10,
   "metadata": {
    "collapsed": false
   },
   "outputs": [
    {
     "name": "stdout",
     "output_type": "stream",
     "text": [
      "524685\n"
     ]
    }
   ],
   "source": [
    "cur.execute(\"SELECT COUNT(*) FROM ways\")\n",
    "for c in cur: print c[0]"
   ]
  },
  {
   "cell_type": "markdown",
   "metadata": {},
   "source": [
    "<h3><u>Top 10 keys for Nodes</u></h3>"
   ]
  },
  {
   "cell_type": "code",
   "execution_count": 15,
   "metadata": {
    "collapsed": false
   },
   "outputs": [
    {
     "name": "stdout",
     "output_type": "stream",
     "text": [
      "addr:housenumber\n",
      "highway\n",
      "addr:street\n",
      "addr:city\n",
      "name\n",
      "created_by\n",
      "amenity\n",
      "source\n",
      "addr:postcode\n",
      "addr:state\n"
     ]
    }
   ],
   "source": [
    "cur.execute(\"\"\"\n",
    "            SELECT k, COUNT(*) FROM nodes_tags \n",
    "            GROUP BY k \n",
    "            ORDER BY COUNT(*) DESC \n",
    "            LIMIT 10\n",
    "                    \"\"\")\n",
    "for c in cur: print c[1], '|', c[0]"
   ]
  },
  {
   "cell_type": "markdown",
   "metadata": {},
   "source": [
    "<h3><u>Top 10 keys for Ways</u></h3>"
   ]
  },
  {
   "cell_type": "code",
   "execution_count": 16,
   "metadata": {
    "collapsed": false
   },
   "outputs": [
    {
     "name": "stdout",
     "output_type": "stream",
     "text": [
      "building\n",
      "highway\n",
      "name\n",
      "source\n",
      "tiger:county\n",
      "tiger:cfcc\n",
      "tiger:name_base\n",
      "tiger:name_type\n",
      "height\n",
      "tiger:zip_left\n"
     ]
    }
   ],
   "source": [
    "cur.execute(\"\"\"\n",
    "            SELECT k, COUNT(*) FROM ways_tags \n",
    "            GROUP BY k \n",
    "            ORDER BY COUNT(*) DESC \n",
    "            LIMIT 10\n",
    "                    \"\"\")\n",
    "\n",
    "for c in cur: print c[1], '|', c[0]"
   ]
  },
  {
   "cell_type": "markdown",
   "metadata": {},
   "source": [
    "<h3><u>Top Cities in the file</u></h3>"
   ]
  },
  {
   "cell_type": "code",
   "execution_count": 17,
   "metadata": {
    "collapsed": false
   },
   "outputs": [
    {
     "name": "stdout",
     "output_type": "stream",
     "text": [
      "Redwood City | 41.44%\n",
      "San Francisco | 30.28%\n",
      "Berkeley | 9.90%\n",
      "Piedmont | 6.71%\n",
      "Palo Alto | 2.89%\n",
      "Richmond | 2.38%\n",
      "Oakland | 2.36%\n",
      "Union City | 0.46%\n",
      "Albany | 0.39%\n",
      "Burlingame | 0.35%\n"
     ]
    }
   ],
   "source": [
    "# This gets the count for every node and way that contains a key for a city.\n",
    "cur.execute(\"\"\"\n",
    "            SELECT COUNT(*) FROM \n",
    "            (SELECT v from nodes_tags WHERE k='addr:city' \n",
    "            UNION ALL\n",
    "            SELECT v from ways_tags WHERE k='addr:city')\n",
    "                                                        \"\"\")\n",
    "\n",
    "v_count = [c[0] for c in cur]\n",
    "\n",
    "\n",
    "# This gets the top ten cities for both nodes and ways and their count\n",
    "cur.execute(\"\"\"\n",
    "            SELECT v, COUNT(*) as count FROM\n",
    "            (SELECT v from nodes_tags WHERE k='addr:city' \n",
    "            UNION ALL\n",
    "            SELECT v from ways_tags WHERE k='addr:city')\n",
    "            GROUP BY v\n",
    "            ORDER BY count DESC\n",
    "            LIMIT 10\n",
    "                                                        \"\"\")\n",
    "\n",
    "# Here, I get a percentage by dividing the city's count with v_count and multiplying by 100. \n",
    "# The result is formatted to 2 decimal places\n",
    "for c in cur:\n",
    "        print c[0], \"|\", \"{0:.2f}\".format((c[1]*100.0)/v_count[0])+'%'"
   ]
  },
  {
   "cell_type": "code",
   "execution_count": null,
   "metadata": {
    "collapsed": true
   },
   "outputs": [],
   "source": []
  }
 ],
 "metadata": {
  "kernelspec": {
   "display_name": "Python 2",
   "language": "python",
   "name": "python2"
  },
  "language_info": {
   "codemirror_mode": {
    "name": "ipython",
    "version": 2
   },
   "file_extension": ".py",
   "mimetype": "text/x-python",
   "name": "python",
   "nbconvert_exporter": "python",
   "pygments_lexer": "ipython2",
   "version": "2.7.9"
  }
 },
 "nbformat": 4,
 "nbformat_minor": 0
}
